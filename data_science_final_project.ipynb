{
 "cells": [
  {
   "cell_type": "markdown",
   "id": "f125ba8c",
   "metadata": {},
   "source": [
    "# Final Project - Data Science Tools and Ecosystem"
   ]
  },
  {
   "cell_type": "markdown",
   "id": "0b1b7e99",
   "metadata": {},
   "source": [
    "In this notebook, we summarize some of the key concepts and tools introduced in the Data Science course, including languages, libraries, and arithmetic expressions commonly used in the field."
   ]
  },
  {
   "cell_type": "markdown",
   "id": "12b2ae42",
   "metadata": {},
   "source": [
    "## Data Science Languages\n",
    "- Python\n",
    "- R\n",
    "- SQL\n",
    "- Julia\n",
    "- Scala"
   ]
  },
  {
   "cell_type": "markdown",
   "id": "ac3dd16a",
   "metadata": {},
   "source": [
    "## Commonly Used Data Science Libraries\n",
    "- Pandas\n",
    "- NumPy\n",
    "- Matplotlib\n",
    "- Scikit-learn\n",
    "- TensorFlow"
   ]
  },
  {
   "cell_type": "markdown",
   "id": "d128693c",
   "metadata": {},
   "source": [
    "## Data Science Tools\n",
    "\n",
    "| Tool           | Description                    |\n",
    "|----------------|--------------------------------|\n",
    "| JupyterLab     | Interactive IDE for notebooks  |\n",
    "| RStudio        | IDE for R                      |\n",
    "| Apache Zeppelin| Web-based notebook for data    |"
   ]
  },
  {
   "cell_type": "markdown",
   "id": "ed1587b7",
   "metadata": {},
   "source": [
    "## Arithmetic Expressions Examples\n",
    "Some examples include:\n",
    "- `3 + 5`\n",
    "- `10 * 4`\n",
    "- `(8 + 2) / 2`"
   ]
  },
  {
   "cell_type": "code",
   "execution_count": null,
   "id": "f3bda4ab",
   "metadata": {},
   "outputs": [],
   "source": [
    "(3 * 4) + 5"
   ]
  },
  {
   "cell_type": "code",
   "execution_count": null,
   "id": "650c3bfd",
   "metadata": {},
   "outputs": [],
   "source": [
    "minutes = 200\n",
    "hours = minutes / 60\n",
    "hours"
   ]
  },
  {
   "cell_type": "markdown",
   "id": "fd83bfa2",
   "metadata": {},
   "source": [
    "## Objectives of this course:\n",
    "- Understand data science languages and tools\n",
    "- Learn how to use Jupyter Notebooks\n",
    "- Apply arithmetic expressions in Python\n",
    "- Create and share a GitHub-hosted notebook"
   ]
  },
  {
   "cell_type": "markdown",
   "id": "a24c1163",
   "metadata": {},
   "source": [
    "**Author:** Isabela Osorio"
   ]
  }
 ],
 "metadata": {},
 "nbformat": 4,
 "nbformat_minor": 5
}
